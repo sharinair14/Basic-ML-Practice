{
  "nbformat": 4,
  "nbformat_minor": 0,
  "metadata": {
    "colab": {
      "name": "Simple Calculator.ipynb",
      "provenance": [],
      "authorship_tag": "ABX9TyNr2dBzmsWYSiSM9wpsew9B",
      "include_colab_link": true
    },
    "kernelspec": {
      "name": "python3",
      "display_name": "Python 3"
    }
  },
  "cells": [
    {
      "cell_type": "markdown",
      "metadata": {
        "id": "view-in-github",
        "colab_type": "text"
      },
      "source": [
        "<a href=\"https://colab.research.google.com/github/sharinair14/Python-programs/blob/master/Simple_Calculator.ipynb\" target=\"_parent\"><img src=\"https://colab.research.google.com/assets/colab-badge.svg\" alt=\"Open In Colab\"/></a>"
      ]
    },
    {
      "cell_type": "markdown",
      "metadata": {
        "id": "BxpOH1VutDEK",
        "colab_type": "text"
      },
      "source": [
        "**Simple Calculator**\n"
      ]
    },
    {
      "cell_type": "code",
      "metadata": {
        "id": "yF1eGu_TsuoQ",
        "colab_type": "code",
        "colab": {}
      },
      "source": [
        "def add(a,b):\n",
        "  return a+b"
      ],
      "execution_count": 16,
      "outputs": []
    },
    {
      "cell_type": "code",
      "metadata": {
        "id": "Xn3iIwPbtQxU",
        "colab_type": "code",
        "colab": {}
      },
      "source": [
        "def sub(a,b):\n",
        "  return a-b"
      ],
      "execution_count": 17,
      "outputs": []
    },
    {
      "cell_type": "code",
      "metadata": {
        "id": "5Yj-gSv3tnMN",
        "colab_type": "code",
        "colab": {}
      },
      "source": [
        "def mul(a,b):\n",
        "  return a*b"
      ],
      "execution_count": 18,
      "outputs": []
    },
    {
      "cell_type": "code",
      "metadata": {
        "id": "zidHLi-OtqWs",
        "colab_type": "code",
        "colab": {}
      },
      "source": [
        "def div(a,b):\n",
        "  return a/b"
      ],
      "execution_count": 19,
      "outputs": []
    },
    {
      "cell_type": "code",
      "metadata": {
        "id": "IXakjcEAxQEr",
        "colab_type": "code",
        "colab": {
          "base_uri": "https://localhost:8080/",
          "height": 102
        },
        "outputId": "7acd0afe-4294-4b5e-8289-c82992d5b228"
      },
      "source": [
        "print(\"Select operation\")\n",
        "print(\"1. Addition\")\n",
        "print(\"2. Substraction\")\n",
        "print(\"3. Multiplication\")\n",
        "print(\"4. Division\")"
      ],
      "execution_count": 20,
      "outputs": [
        {
          "output_type": "stream",
          "text": [
            "Select operation\n",
            "1. Addition\n",
            "2. Substraction\n",
            "3. Multiplication\n",
            "4. Division\n"
          ],
          "name": "stdout"
        }
      ]
    },
    {
      "cell_type": "code",
      "metadata": {
        "id": "_RZOFrPptt9l",
        "colab_type": "code",
        "colab": {
          "base_uri": "https://localhost:8080/",
          "height": 51
        },
        "outputId": "f57d073a-3d80-4f88-a333-63ba299eb66c"
      },
      "source": [
        "while True:\n",
        "  choice = input(\"Enter your choice (1/2/3/4): \")\n",
        "  if choice in ('1','2','3','4'):\n",
        "\n",
        "    a = float(input(\"Enter First no.\"))\n",
        "    b = float(input(\"Enter second no.\"))\n",
        "\n",
        "    if choice == '1':\n",
        "      print(a,\"+\", b, \"=\", add(a,b))\n",
        "    elif choice == '2':\n",
        "      print(a, \"-\", b, \"=\", sub(a,b))\n",
        "    elif choice == '3':\n",
        "      print(a, \"*\", b, \"=\", mul(a,b))\n",
        "    elif choice == '4':\n",
        "      print(a, \"/\", b, \"=\", div(a,b))\n",
        "    break\n",
        "  else:\n",
        "    print(\"Invalid Inputs\")\n",
        "    break\n"
      ],
      "execution_count": 35,
      "outputs": [
        {
          "output_type": "stream",
          "text": [
            "Enter your choice (1/2/3/4): a\n",
            "Invalid Inputs\n"
          ],
          "name": "stdout"
        }
      ]
    }
  ]
}