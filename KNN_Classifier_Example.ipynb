{
  "nbformat": 4,
  "nbformat_minor": 0,
  "metadata": {
    "colab": {
      "name": "KNN Classifier Example.ipynb",
      "provenance": [],
      "collapsed_sections": [],
      "authorship_tag": "ABX9TyNgGb75l47IsB9GqKSuvaz8",
      "include_colab_link": true
    },
    "kernelspec": {
      "name": "python3",
      "display_name": "Python 3"
    }
  },
  "cells": [
    {
      "cell_type": "markdown",
      "metadata": {
        "id": "view-in-github",
        "colab_type": "text"
      },
      "source": [
        "<a href=\"https://colab.research.google.com/github/sharinair14/Python-programs/blob/master/KNN_Classifier_Example.ipynb\" target=\"_parent\"><img src=\"https://colab.research.google.com/assets/colab-badge.svg\" alt=\"Open In Colab\"/></a>"
      ]
    },
    {
      "cell_type": "code",
      "metadata": {
        "id": "5vCjuSFG0Ian"
      },
      "source": [
        "import numpy as np\n",
        "import pandas as pd\n",
        "import matplotlib.pyplot as plt\n",
        "import seaborn as sns\n",
        "%matplotlib inline"
      ],
      "execution_count": 1,
      "outputs": []
    },
    {
      "cell_type": "code",
      "metadata": {
        "id": "iECi-5qx0pw_"
      },
      "source": [
        "data = pd.read_excel('/content/classified-data.xlsx',index_col=0)"
      ],
      "execution_count": 2,
      "outputs": []
    },
    {
      "cell_type": "code",
      "metadata": {
        "id": "qfNSvFXL0zAR",
        "outputId": "1ca7828f-ffb9-4af6-912d-fd4c8ad05295",
        "colab": {
          "base_uri": "https://localhost:8080/",
          "height": 235
        }
      },
      "source": [
        "data.head()"
      ],
      "execution_count": 3,
      "outputs": [
        {
          "output_type": "execute_result",
          "data": {
            "text/html": [
              "<div>\n",
              "<style scoped>\n",
              "    .dataframe tbody tr th:only-of-type {\n",
              "        vertical-align: middle;\n",
              "    }\n",
              "\n",
              "    .dataframe tbody tr th {\n",
              "        vertical-align: top;\n",
              "    }\n",
              "\n",
              "    .dataframe thead th {\n",
              "        text-align: right;\n",
              "    }\n",
              "</style>\n",
              "<table border=\"1\" class=\"dataframe\">\n",
              "  <thead>\n",
              "    <tr style=\"text-align: right;\">\n",
              "      <th></th>\n",
              "      <th>PTI</th>\n",
              "      <th>EQW</th>\n",
              "      <th>SBI</th>\n",
              "      <th>LQE</th>\n",
              "      <th>QWG</th>\n",
              "      <th>FDJ</th>\n",
              "      <th>PJF</th>\n",
              "      <th>HQE</th>\n",
              "      <th>NXJ</th>\n",
              "      <th>TARGET CLASS</th>\n",
              "    </tr>\n",
              "    <tr>\n",
              "      <th>WTT</th>\n",
              "      <th></th>\n",
              "      <th></th>\n",
              "      <th></th>\n",
              "      <th></th>\n",
              "      <th></th>\n",
              "      <th></th>\n",
              "      <th></th>\n",
              "      <th></th>\n",
              "      <th></th>\n",
              "      <th></th>\n",
              "    </tr>\n",
              "  </thead>\n",
              "  <tbody>\n",
              "    <tr>\n",
              "      <th>0.913917</th>\n",
              "      <td>1.162073</td>\n",
              "      <td>0.567946</td>\n",
              "      <td>0.755464</td>\n",
              "      <td>0.780862</td>\n",
              "      <td>0.352608</td>\n",
              "      <td>0.759697</td>\n",
              "      <td>0.643798</td>\n",
              "      <td>0.879422</td>\n",
              "      <td>1.231409</td>\n",
              "      <td>1</td>\n",
              "    </tr>\n",
              "    <tr>\n",
              "      <th>0.635632</th>\n",
              "      <td>1.003722</td>\n",
              "      <td>0.535342</td>\n",
              "      <td>0.825645</td>\n",
              "      <td>0.924109</td>\n",
              "      <td>0.648450</td>\n",
              "      <td>0.675334</td>\n",
              "      <td>1.013546</td>\n",
              "      <td>0.621552</td>\n",
              "      <td>1.492702</td>\n",
              "      <td>0</td>\n",
              "    </tr>\n",
              "    <tr>\n",
              "      <th>0.721360</th>\n",
              "      <td>1.201493</td>\n",
              "      <td>0.921990</td>\n",
              "      <td>0.855595</td>\n",
              "      <td>1.526629</td>\n",
              "      <td>0.720781</td>\n",
              "      <td>1.626351</td>\n",
              "      <td>1.154483</td>\n",
              "      <td>0.957877</td>\n",
              "      <td>1.285597</td>\n",
              "      <td>0</td>\n",
              "    </tr>\n",
              "    <tr>\n",
              "      <th>1.234204</th>\n",
              "      <td>1.386726</td>\n",
              "      <td>0.653046</td>\n",
              "      <td>0.825624</td>\n",
              "      <td>1.142504</td>\n",
              "      <td>0.875128</td>\n",
              "      <td>1.409708</td>\n",
              "      <td>1.380003</td>\n",
              "      <td>1.522692</td>\n",
              "      <td>1.153093</td>\n",
              "      <td>1</td>\n",
              "    </tr>\n",
              "    <tr>\n",
              "      <th>1.279491</th>\n",
              "      <td>0.949750</td>\n",
              "      <td>0.627280</td>\n",
              "      <td>0.668976</td>\n",
              "      <td>1.232537</td>\n",
              "      <td>0.703727</td>\n",
              "      <td>1.115596</td>\n",
              "      <td>0.646691</td>\n",
              "      <td>1.463812</td>\n",
              "      <td>1.419167</td>\n",
              "      <td>1</td>\n",
              "    </tr>\n",
              "  </tbody>\n",
              "</table>\n",
              "</div>"
            ],
            "text/plain": [
              "               PTI       EQW       SBI  ...       HQE       NXJ  TARGET CLASS\n",
              "WTT                                     ...                                  \n",
              "0.913917  1.162073  0.567946  0.755464  ...  0.879422  1.231409             1\n",
              "0.635632  1.003722  0.535342  0.825645  ...  0.621552  1.492702             0\n",
              "0.721360  1.201493  0.921990  0.855595  ...  0.957877  1.285597             0\n",
              "1.234204  1.386726  0.653046  0.825624  ...  1.522692  1.153093             1\n",
              "1.279491  0.949750  0.627280  0.668976  ...  1.463812  1.419167             1\n",
              "\n",
              "[5 rows x 10 columns]"
            ]
          },
          "metadata": {
            "tags": []
          },
          "execution_count": 3
        }
      ]
    },
    {
      "cell_type": "code",
      "metadata": {
        "id": "invX5seW1Ili"
      },
      "source": [
        "from sklearn.preprocessing import StandardScaler"
      ],
      "execution_count": 4,
      "outputs": []
    },
    {
      "cell_type": "code",
      "metadata": {
        "id": "MKLMOEav2vzT"
      },
      "source": [
        "scaler = StandardScaler()"
      ],
      "execution_count": 5,
      "outputs": []
    },
    {
      "cell_type": "code",
      "metadata": {
        "id": "P5d4MVCV2371",
        "outputId": "2705bbea-417e-4ef0-c65f-80e95b8447a3",
        "colab": {
          "base_uri": "https://localhost:8080/",
          "height": 34
        }
      },
      "source": [
        "scaler.fit(data.drop('TARGET CLASS',axis=1))"
      ],
      "execution_count": 6,
      "outputs": [
        {
          "output_type": "execute_result",
          "data": {
            "text/plain": [
              "StandardScaler(copy=True, with_mean=True, with_std=True)"
            ]
          },
          "metadata": {
            "tags": []
          },
          "execution_count": 6
        }
      ]
    },
    {
      "cell_type": "code",
      "metadata": {
        "id": "6GyWPK6L3wx6"
      },
      "source": [
        "scaled_features = scaler.transform(data.drop('TARGET CLASS',axis=1))"
      ],
      "execution_count": 7,
      "outputs": []
    },
    {
      "cell_type": "code",
      "metadata": {
        "id": "fVa0_ERl6LlO"
      },
      "source": [
        "df = pd.DataFrame(scaled_features,columns=data.columns[:-1])"
      ],
      "execution_count": 8,
      "outputs": []
    },
    {
      "cell_type": "code",
      "metadata": {
        "id": "Wt6SIWY26kYv",
        "outputId": "7ba1edd4-14d2-4269-a536-08bb223f26d6",
        "colab": {
          "base_uri": "https://localhost:8080/",
          "height": 204
        }
      },
      "source": [
        "df.head()"
      ],
      "execution_count": 9,
      "outputs": [
        {
          "output_type": "execute_result",
          "data": {
            "text/html": [
              "<div>\n",
              "<style scoped>\n",
              "    .dataframe tbody tr th:only-of-type {\n",
              "        vertical-align: middle;\n",
              "    }\n",
              "\n",
              "    .dataframe tbody tr th {\n",
              "        vertical-align: top;\n",
              "    }\n",
              "\n",
              "    .dataframe thead th {\n",
              "        text-align: right;\n",
              "    }\n",
              "</style>\n",
              "<table border=\"1\" class=\"dataframe\">\n",
              "  <thead>\n",
              "    <tr style=\"text-align: right;\">\n",
              "      <th></th>\n",
              "      <th>PTI</th>\n",
              "      <th>EQW</th>\n",
              "      <th>SBI</th>\n",
              "      <th>LQE</th>\n",
              "      <th>QWG</th>\n",
              "      <th>FDJ</th>\n",
              "      <th>PJF</th>\n",
              "      <th>HQE</th>\n",
              "      <th>NXJ</th>\n",
              "    </tr>\n",
              "  </thead>\n",
              "  <tbody>\n",
              "    <tr>\n",
              "      <th>0</th>\n",
              "      <td>0.185907</td>\n",
              "      <td>-0.913431</td>\n",
              "      <td>0.319629</td>\n",
              "      <td>-1.033637</td>\n",
              "      <td>-2.308375</td>\n",
              "      <td>-0.798951</td>\n",
              "      <td>-1.482368</td>\n",
              "      <td>-0.949719</td>\n",
              "      <td>-0.643314</td>\n",
              "    </tr>\n",
              "    <tr>\n",
              "      <th>1</th>\n",
              "      <td>-0.430348</td>\n",
              "      <td>-1.025313</td>\n",
              "      <td>0.625388</td>\n",
              "      <td>-0.444847</td>\n",
              "      <td>-1.152706</td>\n",
              "      <td>-1.129797</td>\n",
              "      <td>-0.202240</td>\n",
              "      <td>-1.828051</td>\n",
              "      <td>0.636759</td>\n",
              "    </tr>\n",
              "    <tr>\n",
              "      <th>2</th>\n",
              "      <td>0.339318</td>\n",
              "      <td>0.301511</td>\n",
              "      <td>0.755873</td>\n",
              "      <td>2.031693</td>\n",
              "      <td>-0.870156</td>\n",
              "      <td>2.599818</td>\n",
              "      <td>0.285707</td>\n",
              "      <td>-0.682494</td>\n",
              "      <td>-0.377850</td>\n",
              "    </tr>\n",
              "    <tr>\n",
              "      <th>3</th>\n",
              "      <td>1.060193</td>\n",
              "      <td>-0.621399</td>\n",
              "      <td>0.625299</td>\n",
              "      <td>0.452820</td>\n",
              "      <td>-0.267220</td>\n",
              "      <td>1.750208</td>\n",
              "      <td>1.066491</td>\n",
              "      <td>1.241325</td>\n",
              "      <td>-1.026987</td>\n",
              "    </tr>\n",
              "    <tr>\n",
              "      <th>4</th>\n",
              "      <td>-0.640392</td>\n",
              "      <td>-0.709819</td>\n",
              "      <td>-0.057175</td>\n",
              "      <td>0.822886</td>\n",
              "      <td>-0.936773</td>\n",
              "      <td>0.596782</td>\n",
              "      <td>-1.472352</td>\n",
              "      <td>1.040772</td>\n",
              "      <td>0.276510</td>\n",
              "    </tr>\n",
              "  </tbody>\n",
              "</table>\n",
              "</div>"
            ],
            "text/plain": [
              "        PTI       EQW       SBI  ...       PJF       HQE       NXJ\n",
              "0  0.185907 -0.913431  0.319629  ... -1.482368 -0.949719 -0.643314\n",
              "1 -0.430348 -1.025313  0.625388  ... -0.202240 -1.828051  0.636759\n",
              "2  0.339318  0.301511  0.755873  ...  0.285707 -0.682494 -0.377850\n",
              "3  1.060193 -0.621399  0.625299  ...  1.066491  1.241325 -1.026987\n",
              "4 -0.640392 -0.709819 -0.057175  ... -1.472352  1.040772  0.276510\n",
              "\n",
              "[5 rows x 9 columns]"
            ]
          },
          "metadata": {
            "tags": []
          },
          "execution_count": 9
        }
      ]
    },
    {
      "cell_type": "code",
      "metadata": {
        "id": "MT65AYc26sMD"
      },
      "source": [
        "from sklearn.model_selection import train_test_split"
      ],
      "execution_count": 10,
      "outputs": []
    },
    {
      "cell_type": "code",
      "metadata": {
        "id": "aSyM7cL-6zmV"
      },
      "source": [
        "X_train,X_test,y_train,y_test = train_test_split(df,data['TARGET CLASS'],test_size=0.3)"
      ],
      "execution_count": 11,
      "outputs": []
    },
    {
      "cell_type": "code",
      "metadata": {
        "id": "bxlXi8Eh7iDs",
        "outputId": "74db0594-cdbc-4409-ffe2-edf35ddb3391",
        "colab": {
          "base_uri": "https://localhost:8080/",
          "height": 34
        }
      },
      "source": [
        "len(X_train)"
      ],
      "execution_count": 12,
      "outputs": [
        {
          "output_type": "execute_result",
          "data": {
            "text/plain": [
              "700"
            ]
          },
          "metadata": {
            "tags": []
          },
          "execution_count": 12
        }
      ]
    },
    {
      "cell_type": "code",
      "metadata": {
        "id": "1Cd2RVKN7lCp",
        "outputId": "5db5ddc7-3813-44bb-b9f1-085a5082438d",
        "colab": {
          "base_uri": "https://localhost:8080/",
          "height": 34
        }
      },
      "source": [
        "len(X_test)"
      ],
      "execution_count": 13,
      "outputs": [
        {
          "output_type": "execute_result",
          "data": {
            "text/plain": [
              "300"
            ]
          },
          "metadata": {
            "tags": []
          },
          "execution_count": 13
        }
      ]
    },
    {
      "cell_type": "code",
      "metadata": {
        "id": "Y_ovvPLg7Om1"
      },
      "source": [
        "from sklearn.neighbors import KNeighborsClassifier"
      ],
      "execution_count": 14,
      "outputs": []
    },
    {
      "cell_type": "code",
      "metadata": {
        "id": "ITBfWJUG7WWw"
      },
      "source": [
        "knn = KNeighborsClassifier(n_neighbors=1)"
      ],
      "execution_count": 15,
      "outputs": []
    },
    {
      "cell_type": "code",
      "metadata": {
        "id": "bZrp1E6V7e9q",
        "outputId": "08566cdb-da88-4d96-f6c0-1985490a0508",
        "colab": {
          "base_uri": "https://localhost:8080/",
          "height": 68
        }
      },
      "source": [
        "knn.fit(X_train,y_train)"
      ],
      "execution_count": 16,
      "outputs": [
        {
          "output_type": "execute_result",
          "data": {
            "text/plain": [
              "KNeighborsClassifier(algorithm='auto', leaf_size=30, metric='minkowski',\n",
              "                     metric_params=None, n_jobs=None, n_neighbors=1, p=2,\n",
              "                     weights='uniform')"
            ]
          },
          "metadata": {
            "tags": []
          },
          "execution_count": 16
        }
      ]
    },
    {
      "cell_type": "code",
      "metadata": {
        "id": "KgBXE7zT7uEj"
      },
      "source": [
        "ypred = knn.predict(X_test)"
      ],
      "execution_count": 17,
      "outputs": []
    },
    {
      "cell_type": "code",
      "metadata": {
        "id": "0p3TBYFx7zyW"
      },
      "source": [
        "from sklearn.metrics import accuracy_score,confusion_matrix,classification_report"
      ],
      "execution_count": 18,
      "outputs": []
    },
    {
      "cell_type": "code",
      "metadata": {
        "id": "5IRNCBKP78TG",
        "outputId": "b7b20d1d-b97b-48f3-bebe-23043bf16f57",
        "colab": {
          "base_uri": "https://localhost:8080/",
          "height": 34
        }
      },
      "source": [
        "print(\"Accuracy is \",accuracy_score(y_test,ypred))"
      ],
      "execution_count": 19,
      "outputs": [
        {
          "output_type": "stream",
          "text": [
            "Accuracy is  0.86\n"
          ],
          "name": "stdout"
        }
      ]
    },
    {
      "cell_type": "code",
      "metadata": {
        "id": "rnbl0Kte8M1d",
        "outputId": "cbc41c65-968e-4f55-eb13-862ca0e2aafa",
        "colab": {
          "base_uri": "https://localhost:8080/",
          "height": 170
        }
      },
      "source": [
        "print(\"Classication Report \",classification_report(y_test,ypred))"
      ],
      "execution_count": 20,
      "outputs": [
        {
          "output_type": "stream",
          "text": [
            "Classication Report                precision    recall  f1-score   support\n",
            "\n",
            "           0       0.88      0.85      0.87       158\n",
            "           1       0.84      0.87      0.85       142\n",
            "\n",
            "    accuracy                           0.86       300\n",
            "   macro avg       0.86      0.86      0.86       300\n",
            "weighted avg       0.86      0.86      0.86       300\n",
            "\n"
          ],
          "name": "stdout"
        }
      ]
    },
    {
      "cell_type": "code",
      "metadata": {
        "id": "PPSimbnt_uRk",
        "outputId": "8145ec6c-6060-4be2-a29d-ed80de6c9f1e",
        "colab": {
          "base_uri": "https://localhost:8080/",
          "height": 51
        }
      },
      "source": [
        "print(\"Confusion Matrix \",confusion_matrix(y_test,ypred))"
      ],
      "execution_count": 21,
      "outputs": [
        {
          "output_type": "stream",
          "text": [
            "Confusion Matrix  [[135  23]\n",
            " [ 19 123]]\n"
          ],
          "name": "stdout"
        }
      ]
    },
    {
      "cell_type": "markdown",
      "metadata": {
        "id": "SMlTyWHH_6t9"
      },
      "source": [
        "**Selecting K** **Values**"
      ]
    },
    {
      "cell_type": "code",
      "metadata": {
        "id": "COClevpU_3w5"
      },
      "source": [
        "error_rate = []\n",
        "for i in range(1,100):\n",
        "  knn = KNeighborsClassifier(n_neighbors=i)\n",
        "  knn.fit(X_train,y_train)\n",
        "  ypred = knn.predict(X_test)\n",
        "  error_rate.append(np.mean(ypred != y_test))"
      ],
      "execution_count": 34,
      "outputs": []
    },
    {
      "cell_type": "code",
      "metadata": {
        "id": "lEtBGGDqDBtg",
        "outputId": "82113622-6a26-41a5-b1ee-c4f39bdcbf5e",
        "colab": {
          "base_uri": "https://localhost:8080/",
          "height": 638
        }
      },
      "source": [
        "plt.figure(figsize=(10,10))\n",
        "plt.plot(range(1,100),error_rate,marker='*',markerfacecolor='red',markersize=10,color='blue',linestyle='dashed')\n",
        "plt.xlabel('K values')\n",
        "plt.ylabel('Error Rate')\n",
        "plt.title(\"Error rate VS K Value\")\n"
      ],
      "execution_count": 36,
      "outputs": [
        {
          "output_type": "execute_result",
          "data": {
            "text/plain": [
              "Text(0.5, 1.0, 'Error rate VS K Value')"
            ]
          },
          "metadata": {
            "tags": []
          },
          "execution_count": 36
        },
        {
          "output_type": "display_data",
          "data": {
            "image/png": "[encoded data removed]",
            "text/plain": [
              "<Figure size 720x720 with 1 Axes>"
            ]
          },
          "metadata": {
            "tags": [],
            "needs_background": "light"
          }
        }
      ]
    },
    {
      "cell_type": "markdown",
      "metadata": {
        "id": "CBRdpDDr4v1N"
      },
      "source": [
        "**Comparison of K's different value**"
      ]
    },
    {
      "cell_type": "code",
      "metadata": {
        "id": "Jp352H0f2bzm",
        "outputId": "5f8aa60a-81dc-4fa1-b586-55f84ec53f14",
        "colab": {
          "base_uri": "https://localhost:8080/",
          "height": 238
        }
      },
      "source": [
        "print('For k=1')\n",
        "knn = KNeighborsClassifier(n_neighbors=1)\n",
        "knn.fit(X_train,y_train)\n",
        "ypred = knn.predict(X_test)\n",
        "print(\"Confusion Matrix \",confusion_matrix(y_test,ypred))\n",
        "print(\"Classication Report \",classification_report(y_test,ypred))\n",
        "print(\"Accuracy is \",accuracy_score(y_test,ypred))"
      ],
      "execution_count": 29,
      "outputs": [
        {
          "output_type": "stream",
          "text": [
            "For k=1\n",
            "Confusion Matrix  [[135  23]\n",
            " [ 19 123]]\n",
            "Classication Report                precision    recall  f1-score   support\n",
            "\n",
            "           0       0.88      0.85      0.87       158\n",
            "           1       0.84      0.87      0.85       142\n",
            "\n",
            "    accuracy                           0.86       300\n",
            "   macro avg       0.86      0.86      0.86       300\n",
            "weighted avg       0.86      0.86      0.86       300\n",
            "\n",
            "Accuracy is  0.86\n"
          ],
          "name": "stdout"
        }
      ]
    },
    {
      "cell_type": "code",
      "metadata": {
        "id": "zm1BopAd4Axe",
        "outputId": "8aa0edc1-21d9-4f88-f2c7-602836888c92",
        "colab": {
          "base_uri": "https://localhost:8080/",
          "height": 238
        }
      },
      "source": [
        "print('For k=25')\n",
        "knn = KNeighborsClassifier(n_neighbors=25)\n",
        "knn.fit(X_train,y_train)\n",
        "ypred = knn.predict(X_test)\n",
        "print(\"Confusion Matrix \",confusion_matrix(y_test,ypred))\n",
        "print(\"Classication Report \",classification_report(y_test,ypred))\n",
        "print(\"Accuracy is \",accuracy_score(y_test,ypred))"
      ],
      "execution_count": 41,
      "outputs": [
        {
          "output_type": "stream",
          "text": [
            "For k=25\n",
            "Confusion Matrix  [[140  18]\n",
            " [  8 134]]\n",
            "Classication Report                precision    recall  f1-score   support\n",
            "\n",
            "           0       0.95      0.89      0.92       158\n",
            "           1       0.88      0.94      0.91       142\n",
            "\n",
            "    accuracy                           0.91       300\n",
            "   macro avg       0.91      0.91      0.91       300\n",
            "weighted avg       0.92      0.91      0.91       300\n",
            "\n",
            "Accuracy is  0.9133333333333333\n"
          ],
          "name": "stdout"
        }
      ]
    },
    {
      "cell_type": "code",
      "metadata": {
        "id": "vTchamcs4WrJ",
        "outputId": "b46807f3-9222-4ba9-b00d-6f4d5f3d6aa7",
        "colab": {
          "base_uri": "https://localhost:8080/",
          "height": 238
        }
      },
      "source": [
        "print('For k=28')\n",
        "knn = KNeighborsClassifier(n_neighbors=28)\n",
        "knn.fit(X_train,y_train)\n",
        "ypred = knn.predict(X_test)\n",
        "print(\"Confusion Matrix \",confusion_matrix(y_test,ypred))\n",
        "print(\"Classication Report \",classification_report(y_test,ypred))\n",
        "print(\"Accuracy is \",accuracy_score(y_test,ypred))"
      ],
      "execution_count": 40,
      "outputs": [
        {
          "output_type": "stream",
          "text": [
            "For k=28\n",
            "Confusion Matrix  [[143  15]\n",
            " [  8 134]]\n",
            "Classication Report                precision    recall  f1-score   support\n",
            "\n",
            "           0       0.95      0.91      0.93       158\n",
            "           1       0.90      0.94      0.92       142\n",
            "\n",
            "    accuracy                           0.92       300\n",
            "   macro avg       0.92      0.92      0.92       300\n",
            "weighted avg       0.92      0.92      0.92       300\n",
            "\n",
            "Accuracy is  0.9233333333333333\n"
          ],
          "name": "stdout"
        }
      ]
    },
    {
      "cell_type": "code",
      "metadata": {
        "id": "ZVt9Q6e6BiFZ",
        "outputId": "94d01bb3-7616-48f4-8824-1736c7ea9c7c",
        "colab": {
          "base_uri": "https://localhost:8080/",
          "height": 238
        }
      },
      "source": [
        "print('For k=35')\n",
        "knn = KNeighborsClassifier(n_neighbors=50)\n",
        "knn.fit(X_train,y_train)\n",
        "ypred = knn.predict(X_test)\n",
        "print(\"Confusion Matrix \",confusion_matrix(y_test,ypred))\n",
        "print(\"Classication Report \",classification_report(y_test,ypred))\n",
        "print(\"Accuracy is \",accuracy_score(y_test,ypred))"
      ],
      "execution_count": 39,
      "outputs": [
        {
          "output_type": "stream",
          "text": [
            "For k=35\n",
            "Confusion Matrix  [[143  15]\n",
            " [  7 135]]\n",
            "Classication Report                precision    recall  f1-score   support\n",
            "\n",
            "           0       0.95      0.91      0.93       158\n",
            "           1       0.90      0.95      0.92       142\n",
            "\n",
            "    accuracy                           0.93       300\n",
            "   macro avg       0.93      0.93      0.93       300\n",
            "weighted avg       0.93      0.93      0.93       300\n",
            "\n",
            "Accuracy is  0.9266666666666666\n"
          ],
          "name": "stdout"
        }
      ]
    }
  ]
}