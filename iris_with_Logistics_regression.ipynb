{
  "nbformat": 4,
  "nbformat_minor": 0,
  "metadata": {
    "colab": {
      "name": "iris with Logistics regression.ipynb",
      "provenance": [],
      "authorship_tag": "ABX9TyN+KheY2qwM2yWr6nWXe3Z7",
      "include_colab_link": true
    },
    "kernelspec": {
      "name": "python3",
      "display_name": "Python 3"
    }
  },
  "cells": [
    {
      "cell_type": "markdown",
      "metadata": {
        "id": "view-in-github",
        "colab_type": "text"
      },
      "source": [
        "<a href=\"https://colab.research.google.com/github/sharinair14/Python-programs/blob/master/iris_with_Logistics_regression.ipynb\" target=\"_parent\"><img src=\"https://colab.research.google.com/assets/colab-badge.svg\" alt=\"Open In Colab\"/></a>"
      ]
    },
    {
      "cell_type": "code",
      "metadata": {
        "id": "65HKQ_zJubmQ"
      },
      "source": [
        "import numpy as np\n",
        "import pandas as pd\n",
        "import matplotlib.pyplot as plt\n",
        "import seaborn as sns\n",
        "%matplotlib inline"
      ],
      "execution_count": 1,
      "outputs": []
    },
    {
      "cell_type": "code",
      "metadata": {
        "id": "xMCjr5T2uu-J"
      },
      "source": [
        "iris=sns.load_dataset('iris')"
      ],
      "execution_count": 2,
      "outputs": []
    },
    {
      "cell_type": "code",
      "metadata": {
        "id": "xb8SZQrGu2DP",
        "outputId": "2d58326a-2b35-4174-9782-5a7b9230714f",
        "colab": {
          "base_uri": "https://localhost:8080/"
        }
      },
      "source": [
        "iris.columns"
      ],
      "execution_count": 3,
      "outputs": [
        {
          "output_type": "execute_result",
          "data": {
            "text/plain": [
              "Index(['sepal_length', 'sepal_width', 'petal_length', 'petal_width',\n",
              "       'species'],\n",
              "      dtype='object')"
            ]
          },
          "metadata": {
            "tags": []
          },
          "execution_count": 3
        }
      ]
    },
    {
      "cell_type": "code",
      "metadata": {
        "id": "Qe0zhxSqu5Jn",
        "outputId": "d8bbf905-2b6b-4c99-cfde-688c8db7ab51",
        "colab": {
          "base_uri": "https://localhost:8080/",
          "height": 296
        }
      },
      "source": [
        "plt.xlabel(\"Features\")\n",
        "plt.ylabel(\"species\")\n",
        "\n",
        "pltx = iris.loc[:,'sepal_length']\n",
        "plty = iris.loc[:,'species']\n",
        "\n",
        "plt.scatter(pltx,plty,color='blue',label='sepal_length')\n",
        "\n",
        "pltx = iris.loc[:,'sepal_width']\n",
        "plty = iris.loc[:,'species']\n",
        "\n",
        "plt.scatter(pltx,plty,color='red',label='sepal_width')\n",
        "\n",
        "pltx = iris.loc[:,'petal_length']\n",
        "plty = iris.loc[:,'species']\n",
        "\n",
        "plt.scatter(pltx,plty,color='green',label='petal_length')\n",
        "\n",
        "pltx = iris.loc[:,'petal_width']\n",
        "plty = iris.loc[:,'species']\n",
        "\n",
        "plt.scatter(pltx,plty,color='orange',label='petal_width')\n",
        "\n",
        "plt.legend(loc=4)"
      ],
      "execution_count": 17,
      "outputs": [
        {
          "output_type": "execute_result",
          "data": {
            "text/plain": [
              "<matplotlib.legend.Legend at 0x7f470f2aaba8>"
            ]
          },
          "metadata": {
            "tags": []
          },
          "execution_count": 17
        },
        {
          "output_type": "display_data",
          "data": {
            "image/png": "[encoded data removed]",
            "text/plain": [
              "<Figure size 432x288 with 1 Axes>"
            ]
          },
          "metadata": {
            "tags": [],
            "needs_background": "light"
          }
        }
      ]
    },
    {
      "cell_type": "markdown",
      "metadata": {
        "id": "jgFvcRi41tho"
      },
      "source": [
        "Modelling"
      ]
    },
    {
      "cell_type": "code",
      "metadata": {
        "id": "JHu06Y6U0eNA"
      },
      "source": [
        "from sklearn.model_selection import train_test_split\n",
        "from sklearn.linear_model import LogisticRegression\n",
        "from sklearn.metrics import confusion_matrix,classification_report,accuracy_score"
      ],
      "execution_count": 37,
      "outputs": []
    },
    {
      "cell_type": "code",
      "metadata": {
        "id": "5Alg0iB72NrL"
      },
      "source": [
        "X=iris.iloc[:,:-1]\n",
        "y=iris.iloc[:,-1]"
      ],
      "execution_count": 22,
      "outputs": []
    },
    {
      "cell_type": "code",
      "metadata": {
        "id": "nxE5iWJF4EXi"
      },
      "source": [
        "X_train,X_test,y_train,y_test = train_test_split(X,y,test_size=0.3,random_state=100)"
      ],
      "execution_count": 26,
      "outputs": []
    },
    {
      "cell_type": "code",
      "metadata": {
        "id": "YvmlFXqf4o1f"
      },
      "source": [
        "lr=LogisticRegression()"
      ],
      "execution_count": 27,
      "outputs": []
    },
    {
      "cell_type": "code",
      "metadata": {
        "id": "GU1FUzgA4tp-",
        "outputId": "3812474c-6193-4f38-eaed-865738496494",
        "colab": {
          "base_uri": "https://localhost:8080/"
        }
      },
      "source": [
        "lr.fit(X_train,y_train)"
      ],
      "execution_count": 28,
      "outputs": [
        {
          "output_type": "stream",
          "text": [
            "/usr/local/lib/python3.6/dist-packages/sklearn/linear_model/_logistic.py:940: ConvergenceWarning: lbfgs failed to converge (status=1):\n",
            "STOP: TOTAL NO. of ITERATIONS REACHED LIMIT.\n",
            "\n",
            "Increase the number of iterations (max_iter) or scale the data as shown in:\n",
            "    https://scikit-learn.org/stable/modules/preprocessing.html\n",
            "Please also refer to the documentation for alternative solver options:\n",
            "    https://scikit-learn.org/stable/modules/linear_model.html#logistic-regression\n",
            "  extra_warning_msg=_LOGISTIC_SOLVER_CONVERGENCE_MSG)\n"
          ],
          "name": "stderr"
        },
        {
          "output_type": "execute_result",
          "data": {
            "text/plain": [
              "LogisticRegression(C=1.0, class_weight=None, dual=False, fit_intercept=True,\n",
              "                   intercept_scaling=1, l1_ratio=None, max_iter=100,\n",
              "                   multi_class='auto', n_jobs=None, penalty='l2',\n",
              "                   random_state=None, solver='lbfgs', tol=0.0001, verbose=0,\n",
              "                   warm_start=False)"
            ]
          },
          "metadata": {
            "tags": []
          },
          "execution_count": 28
        }
      ]
    },
    {
      "cell_type": "code",
      "metadata": {
        "id": "9DHY_9Xx43rV"
      },
      "source": [
        "y_pred=lr.predict(X_test)"
      ],
      "execution_count": 29,
      "outputs": []
    },
    {
      "cell_type": "code",
      "metadata": {
        "id": "6S5ajq_p6Uke",
        "outputId": "cc3cf0a2-870b-4761-ec03-bd31f8e9babe",
        "colab": {
          "base_uri": "https://localhost:8080/"
        }
      },
      "source": [
        "print(y_pred)"
      ],
      "execution_count": 35,
      "outputs": [
        {
          "output_type": "stream",
          "text": [
            "['virginica' 'setosa' 'virginica' 'setosa' 'virginica' 'virginica'\n",
            " 'setosa' 'setosa' 'virginica' 'setosa' 'setosa' 'virginica' 'setosa'\n",
            " 'setosa' 'virginica' 'versicolor' 'versicolor' 'versicolor' 'virginica'\n",
            " 'virginica' 'virginica' 'setosa' 'virginica' 'setosa' 'versicolor'\n",
            " 'virginica' 'versicolor' 'setosa' 'versicolor' 'virginica' 'versicolor'\n",
            " 'versicolor' 'versicolor' 'setosa' 'setosa' 'versicolor' 'setosa'\n",
            " 'versicolor' 'virginica' 'virginica' 'setosa' 'versicolor' 'virginica'\n",
            " 'virginica' 'setosa']\n"
          ],
          "name": "stdout"
        }
      ]
    },
    {
      "cell_type": "code",
      "metadata": {
        "id": "dcSzLO7c5A9G",
        "outputId": "5f7c247f-848e-4a4d-df6d-6f66a1019d77",
        "colab": {
          "base_uri": "https://localhost:8080/"
        }
      },
      "source": [
        "print(\"Clasification Report : \",classification_report(y_test,y_pred))"
      ],
      "execution_count": 36,
      "outputs": [
        {
          "output_type": "stream",
          "text": [
            "Clasification Report :                precision    recall  f1-score   support\n",
            "\n",
            "      setosa       1.00      1.00      1.00        16\n",
            "  versicolor       0.92      1.00      0.96        11\n",
            "   virginica       1.00      0.94      0.97        18\n",
            "\n",
            "    accuracy                           0.98        45\n",
            "   macro avg       0.97      0.98      0.98        45\n",
            "weighted avg       0.98      0.98      0.98        45\n",
            "\n"
          ],
          "name": "stdout"
        }
      ]
    },
    {
      "cell_type": "code",
      "metadata": {
        "id": "6Eqyesvl67um",
        "outputId": "48e19ad7-ac57-4121-aed3-f95f8bc0ad88",
        "colab": {
          "base_uri": "https://localhost:8080/"
        }
      },
      "source": [
        "print(\"Accuracy score : \",accuracy_score(y_test,y_pred))"
      ],
      "execution_count": 38,
      "outputs": [
        {
          "output_type": "stream",
          "text": [
            "Accuracy score :  0.9777777777777777\n"
          ],
          "name": "stdout"
        }
      ]
    },
    {
      "cell_type": "code",
      "metadata": {
        "id": "ynk0AMoN7TYy",
        "outputId": "e9c42cdd-495c-4357-de85-1488d40f3d2c",
        "colab": {
          "base_uri": "https://localhost:8080/"
        }
      },
      "source": [
        "print(\"Confusion Matrix : \",confusion_matrix(y_test,y_pred))"
      ],
      "execution_count": 39,
      "outputs": [
        {
          "output_type": "stream",
          "text": [
            "Confusion Matrix :  [[16  0  0]\n",
            " [ 0 11  0]\n",
            " [ 0  1 17]]\n"
          ],
          "name": "stdout"
        }
      ]
    },
    {
      "cell_type": "code",
      "metadata": {
        "id": "xd9BAQ8s5EQ7"
      },
      "source": [
        ""
      ],
      "execution_count": null,
      "outputs": []
    }
  ]
}