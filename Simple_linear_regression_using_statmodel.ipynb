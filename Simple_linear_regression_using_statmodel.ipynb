{
  "nbformat": 4,
  "nbformat_minor": 0,
  "metadata": {
    "colab": {
      "name": "Simple-linear-regression-using-statmodel.ipynb",
      "provenance": [],
      "collapsed_sections": [],
      "authorship_tag": "ABX9TyO8zKTf/d/RxHoaoU6xAeFN",
      "include_colab_link": true
    },
    "kernelspec": {
      "name": "python3",
      "display_name": "Python 3"
    }
  },
  "cells": [
    {
      "cell_type": "markdown",
      "metadata": {
        "id": "view-in-github",
        "colab_type": "text"
      },
      "source": [
        "<a href=\"https://colab.research.google.com/github/sharinair14/Basic-ML-Practice/blob/master/Simple_linear_regression_using_statmodel.ipynb\" target=\"_parent\"><img src=\"https://colab.research.google.com/assets/colab-badge.svg\" alt=\"Open In Colab\"/></a>"
      ]
    },
    {
      "cell_type": "code",
      "metadata": {
        "id": "IC64-17iwopl"
      },
      "source": [
        "import numpy as np\n",
        "import pandas as pd\n",
        "import matplotlib.pyplot as plt\n",
        "import seaborn as sns\n",
        "%matplotlib inline\n"
      ],
      "execution_count": 3,
      "outputs": []
    },
    {
      "cell_type": "code",
      "metadata": {
        "id": "WNK_km0Kw3Yv"
      },
      "source": [
        "ad_data = pd.read_csv('/content/Advertising.csv',index_col=0)\n",
        "\n"
      ],
      "execution_count": 4,
      "outputs": []
    },
    {
      "cell_type": "code",
      "metadata": {
        "id": "0peRjBynw59z",
        "outputId": "f04e74e8-0ae9-463e-aa47-c691e3b03947",
        "colab": {
          "base_uri": "https://localhost:8080/",
          "height": 235
        }
      },
      "source": [
        "ad_data.head()"
      ],
      "execution_count": 5,
      "outputs": [
        {
          "output_type": "execute_result",
          "data": {
            "text/html": [
              "<div>\n",
              "<style scoped>\n",
              "    .dataframe tbody tr th:only-of-type {\n",
              "        vertical-align: middle;\n",
              "    }\n",
              "\n",
              "    .dataframe tbody tr th {\n",
              "        vertical-align: top;\n",
              "    }\n",
              "\n",
              "    .dataframe thead th {\n",
              "        text-align: right;\n",
              "    }\n",
              "</style>\n",
              "<table border=\"1\" class=\"dataframe\">\n",
              "  <thead>\n",
              "    <tr style=\"text-align: right;\">\n",
              "      <th></th>\n",
              "      <th>TV</th>\n",
              "      <th>radio</th>\n",
              "      <th>newspaper</th>\n",
              "      <th>sales</th>\n",
              "    </tr>\n",
              "    <tr>\n",
              "      <th>Index</th>\n",
              "      <th></th>\n",
              "      <th></th>\n",
              "      <th></th>\n",
              "      <th></th>\n",
              "    </tr>\n",
              "  </thead>\n",
              "  <tbody>\n",
              "    <tr>\n",
              "      <th>1</th>\n",
              "      <td>230.1</td>\n",
              "      <td>37.8</td>\n",
              "      <td>69.2</td>\n",
              "      <td>22.1</td>\n",
              "    </tr>\n",
              "    <tr>\n",
              "      <th>2</th>\n",
              "      <td>44.5</td>\n",
              "      <td>39.3</td>\n",
              "      <td>45.1</td>\n",
              "      <td>10.4</td>\n",
              "    </tr>\n",
              "    <tr>\n",
              "      <th>3</th>\n",
              "      <td>17.2</td>\n",
              "      <td>45.9</td>\n",
              "      <td>69.3</td>\n",
              "      <td>9.3</td>\n",
              "    </tr>\n",
              "    <tr>\n",
              "      <th>4</th>\n",
              "      <td>151.5</td>\n",
              "      <td>41.3</td>\n",
              "      <td>58.5</td>\n",
              "      <td>18.5</td>\n",
              "    </tr>\n",
              "    <tr>\n",
              "      <th>5</th>\n",
              "      <td>180.8</td>\n",
              "      <td>10.8</td>\n",
              "      <td>58.4</td>\n",
              "      <td>12.9</td>\n",
              "    </tr>\n",
              "  </tbody>\n",
              "</table>\n",
              "</div>"
            ],
            "text/plain": [
              "          TV  radio  newspaper  sales\n",
              "Index                                \n",
              "1      230.1   37.8       69.2   22.1\n",
              "2       44.5   39.3       45.1   10.4\n",
              "3       17.2   45.9       69.3    9.3\n",
              "4      151.5   41.3       58.5   18.5\n",
              "5      180.8   10.8       58.4   12.9"
            ]
          },
          "metadata": {
            "tags": []
          },
          "execution_count": 5
        }
      ]
    },
    {
      "cell_type": "code",
      "metadata": {
        "id": "THAdeAZCw61l",
        "outputId": "b0aa8df9-cd87-4ce2-a582-612c2757cd64",
        "colab": {
          "base_uri": "https://localhost:8080/"
        }
      },
      "source": [
        "ad_data.shape"
      ],
      "execution_count": 6,
      "outputs": [
        {
          "output_type": "execute_result",
          "data": {
            "text/plain": [
              "(200, 4)"
            ]
          },
          "metadata": {
            "tags": []
          },
          "execution_count": 6
        }
      ]
    },
    {
      "cell_type": "code",
      "metadata": {
        "id": "_oaY8Qe_w9QD",
        "outputId": "fabb8fa2-4515-44c8-bde6-f21102f34554",
        "colab": {
          "base_uri": "https://localhost:8080/"
        }
      },
      "source": [
        "ad_data.info()"
      ],
      "execution_count": 7,
      "outputs": [
        {
          "output_type": "stream",
          "text": [
            "<class 'pandas.core.frame.DataFrame'>\n",
            "Int64Index: 200 entries, 1 to 200\n",
            "Data columns (total 4 columns):\n",
            " #   Column     Non-Null Count  Dtype  \n",
            "---  ------     --------------  -----  \n",
            " 0   TV         200 non-null    float64\n",
            " 1   radio      200 non-null    float64\n",
            " 2   newspaper  200 non-null    float64\n",
            " 3   sales      200 non-null    float64\n",
            "dtypes: float64(4)\n",
            "memory usage: 7.8 KB\n"
          ],
          "name": "stdout"
        }
      ]
    },
    {
      "cell_type": "code",
      "metadata": {
        "id": "cu4xlyUFxANq",
        "outputId": "3824872c-ae22-4e04-e529-adc268b95237",
        "colab": {
          "base_uri": "https://localhost:8080/"
        }
      },
      "source": [
        "ad_data.isna().sum()"
      ],
      "execution_count": 8,
      "outputs": [
        {
          "output_type": "execute_result",
          "data": {
            "text/plain": [
              "TV           0\n",
              "radio        0\n",
              "newspaper    0\n",
              "sales        0\n",
              "dtype: int64"
            ]
          },
          "metadata": {
            "tags": []
          },
          "execution_count": 8
        }
      ]
    },
    {
      "cell_type": "code",
      "metadata": {
        "id": "zB9AevgpEBfC",
        "outputId": "920e45cf-82bd-4dd3-fb1b-7e8e447d4cb8",
        "colab": {
          "base_uri": "https://localhost:8080/",
          "height": 297
        }
      },
      "source": [
        "ad_data.describe()"
      ],
      "execution_count": 9,
      "outputs": [
        {
          "output_type": "execute_result",
          "data": {
            "text/html": [
              "<div>\n",
              "<style scoped>\n",
              "    .dataframe tbody tr th:only-of-type {\n",
              "        vertical-align: middle;\n",
              "    }\n",
              "\n",
              "    .dataframe tbody tr th {\n",
              "        vertical-align: top;\n",
              "    }\n",
              "\n",
              "    .dataframe thead th {\n",
              "        text-align: right;\n",
              "    }\n",
              "</style>\n",
              "<table border=\"1\" class=\"dataframe\">\n",
              "  <thead>\n",
              "    <tr style=\"text-align: right;\">\n",
              "      <th></th>\n",
              "      <th>TV</th>\n",
              "      <th>radio</th>\n",
              "      <th>newspaper</th>\n",
              "      <th>sales</th>\n",
              "    </tr>\n",
              "  </thead>\n",
              "  <tbody>\n",
              "    <tr>\n",
              "      <th>count</th>\n",
              "      <td>200.000000</td>\n",
              "      <td>200.000000</td>\n",
              "      <td>200.000000</td>\n",
              "      <td>200.000000</td>\n",
              "    </tr>\n",
              "    <tr>\n",
              "      <th>mean</th>\n",
              "      <td>147.042500</td>\n",
              "      <td>23.264000</td>\n",
              "      <td>30.554000</td>\n",
              "      <td>14.022500</td>\n",
              "    </tr>\n",
              "    <tr>\n",
              "      <th>std</th>\n",
              "      <td>85.854236</td>\n",
              "      <td>14.846809</td>\n",
              "      <td>21.778621</td>\n",
              "      <td>5.217457</td>\n",
              "    </tr>\n",
              "    <tr>\n",
              "      <th>min</th>\n",
              "      <td>0.700000</td>\n",
              "      <td>0.000000</td>\n",
              "      <td>0.300000</td>\n",
              "      <td>1.600000</td>\n",
              "    </tr>\n",
              "    <tr>\n",
              "      <th>25%</th>\n",
              "      <td>74.375000</td>\n",
              "      <td>9.975000</td>\n",
              "      <td>12.750000</td>\n",
              "      <td>10.375000</td>\n",
              "    </tr>\n",
              "    <tr>\n",
              "      <th>50%</th>\n",
              "      <td>149.750000</td>\n",
              "      <td>22.900000</td>\n",
              "      <td>25.750000</td>\n",
              "      <td>12.900000</td>\n",
              "    </tr>\n",
              "    <tr>\n",
              "      <th>75%</th>\n",
              "      <td>218.825000</td>\n",
              "      <td>36.525000</td>\n",
              "      <td>45.100000</td>\n",
              "      <td>17.400000</td>\n",
              "    </tr>\n",
              "    <tr>\n",
              "      <th>max</th>\n",
              "      <td>296.400000</td>\n",
              "      <td>49.600000</td>\n",
              "      <td>114.000000</td>\n",
              "      <td>27.000000</td>\n",
              "    </tr>\n",
              "  </tbody>\n",
              "</table>\n",
              "</div>"
            ],
            "text/plain": [
              "               TV       radio   newspaper       sales\n",
              "count  200.000000  200.000000  200.000000  200.000000\n",
              "mean   147.042500   23.264000   30.554000   14.022500\n",
              "std     85.854236   14.846809   21.778621    5.217457\n",
              "min      0.700000    0.000000    0.300000    1.600000\n",
              "25%     74.375000    9.975000   12.750000   10.375000\n",
              "50%    149.750000   22.900000   25.750000   12.900000\n",
              "75%    218.825000   36.525000   45.100000   17.400000\n",
              "max    296.400000   49.600000  114.000000   27.000000"
            ]
          },
          "metadata": {
            "tags": []
          },
          "execution_count": 9
        }
      ]
    },
    {
      "cell_type": "code",
      "metadata": {
        "id": "orjoLUZ8xCiE",
        "outputId": "228b64d7-ed17-4faa-fc50-ac5beb97b7dd",
        "colab": {
          "base_uri": "https://localhost:8080/",
          "height": 286
        }
      },
      "source": [
        "sns.heatmap(ad_data.corr(),annot=True,cmap=\"Greens\")"
      ],
      "execution_count": 10,
      "outputs": [
        {
          "output_type": "execute_result",
          "data": {
            "text/plain": [
              "<matplotlib.axes._subplots.AxesSubplot at 0x7fb2d108f080>"
            ]
          },
          "metadata": {
            "tags": []
          },
          "execution_count": 10
        },
        {
          "output_type": "display_data",
          "data": {
            "image/png": "[encoded data removed]",
            "text/plain": [
              "<Figure size 432x288 with 2 Axes>"
            ]
          },
          "metadata": {
            "tags": [],
            "needs_background": "light"
          }
        }
      ]
    },
    {
      "cell_type": "markdown",
      "metadata": {
        "id": "l_jVsrqfxh_H"
      },
      "source": [
        "Sales is correlated to TV.So taking TV as independent feature and sales as dependent."
      ]
    },
    {
      "cell_type": "code",
      "metadata": {
        "id": "iWcxJPG4xNdo"
      },
      "source": [
        "X=ad_data['TV']\n",
        "y=ad_data['sales']"
      ],
      "execution_count": 11,
      "outputs": []
    },
    {
      "cell_type": "code",
      "metadata": {
        "id": "0X96Q_7jFw0B"
      },
      "source": [
        "from sklearn.model_selection import train_test_split\n",
        "X_train,X_test,y_train,y_test = train_test_split(X,y,test_size=0.2)"
      ],
      "execution_count": 12,
      "outputs": []
    },
    {
      "cell_type": "code",
      "metadata": {
        "id": "juHjqyD2teih",
        "outputId": "96cf9486-9f3c-4b5d-d118-ca652c015148",
        "colab": {
          "base_uri": "https://localhost:8080/"
        }
      },
      "source": [
        "X_train.shape"
      ],
      "execution_count": 13,
      "outputs": [
        {
          "output_type": "execute_result",
          "data": {
            "text/plain": [
              "(160,)"
            ]
          },
          "metadata": {
            "tags": []
          },
          "execution_count": 13
        }
      ]
    },
    {
      "cell_type": "code",
      "metadata": {
        "id": "nAEILwHStkUu",
        "outputId": "3771e3ae-3872-40b1-b9f2-06166b643929",
        "colab": {
          "base_uri": "https://localhost:8080/"
        }
      },
      "source": [
        "y_train.shape"
      ],
      "execution_count": 14,
      "outputs": [
        {
          "output_type": "execute_result",
          "data": {
            "text/plain": [
              "(160,)"
            ]
          },
          "metadata": {
            "tags": []
          },
          "execution_count": 14
        }
      ]
    },
    {
      "cell_type": "code",
      "metadata": {
        "id": "89KspQlWyVZS",
        "outputId": "dcb5f24c-d1df-42ca-ce45-236e27f2965b",
        "colab": {
          "base_uri": "https://localhost:8080/"
        }
      },
      "source": [
        "import statsmodels.api as sm"
      ],
      "execution_count": 15,
      "outputs": [
        {
          "output_type": "stream",
          "text": [
            "/usr/local/lib/python3.6/dist-packages/statsmodels/tools/_testing.py:19: FutureWarning: pandas.util.testing is deprecated. Use the functions in the public API at pandas.testing instead.\n",
            "  import pandas.util.testing as tm\n"
          ],
          "name": "stderr"
        }
      ]
    },
    {
      "cell_type": "markdown",
      "metadata": {
        "id": "b030GYCSFYyU"
      },
      "source": [
        "y('sales')=coefficient * x('TV') + intercept"
      ]
    },
    {
      "cell_type": "code",
      "metadata": {
        "id": "Dr-NhZpxEUBO"
      },
      "source": [
        "X_train_cons = sm.add_constant(X_train)"
      ],
      "execution_count": 16,
      "outputs": []
    },
    {
      "cell_type": "code",
      "metadata": {
        "id": "FEVNeMn8yIXY"
      },
      "source": [
        "model = sm.OLS(y_train,X_train_cons).fit()"
      ],
      "execution_count": 17,
      "outputs": []
    },
    {
      "cell_type": "code",
      "metadata": {
        "id": "zUoyWUyuJJ9j"
      },
      "source": [
        ""
      ],
      "execution_count": 17,
      "outputs": []
    },
    {
      "cell_type": "code",
      "metadata": {
        "id": "kOdYPp7bH2oa",
        "outputId": "8cb21a67-d912-4d23-8c03-a65b9f450a24",
        "colab": {
          "base_uri": "https://localhost:8080/"
        }
      },
      "source": [
        "print(model.summary2())"
      ],
      "execution_count": 18,
      "outputs": [
        {
          "output_type": "stream",
          "text": [
            "                 Results: Ordinary least squares\n",
            "=================================================================\n",
            "Model:              OLS              Adj. R-squared:     0.602   \n",
            "Dependent Variable: sales            AIC:                840.2076\n",
            "Date:               2020-11-04 06:06 BIC:                846.3579\n",
            "No. Observations:   160              Log-Likelihood:     -418.10 \n",
            "Df Model:           1                F-statistic:        241.3   \n",
            "Df Residuals:       158              Prob (F-statistic): 1.26e-33\n",
            "R-squared:          0.604            Scale:              11.034  \n",
            "--------------------------------------------------------------------\n",
            "         Coef.     Std.Err.       t       P>|t|     [0.025    0.975]\n",
            "--------------------------------------------------------------------\n",
            "const    7.0959      0.5346    13.2741    0.0000    6.0401    8.1518\n",
            "TV       0.0479      0.0031    15.5338    0.0000    0.0418    0.0540\n",
            "-----------------------------------------------------------------\n",
            "Omnibus:               0.632        Durbin-Watson:          2.107\n",
            "Prob(Omnibus):         0.729        Jarque-Bera (JB):       0.767\n",
            "Skew:                  -0.098       Prob(JB):               0.682\n",
            "Kurtosis:              2.723        Condition No.:          353  \n",
            "=================================================================\n",
            "\n"
          ],
          "name": "stdout"
        }
      ]
    },
    {
      "cell_type": "code",
      "metadata": {
        "id": "Cw46uo7xIVLo",
        "outputId": "78dc20e8-a705-4e38-d905-740b7093d0ca",
        "colab": {
          "base_uri": "https://localhost:8080/"
        }
      },
      "source": [
        "model.params"
      ],
      "execution_count": 19,
      "outputs": [
        {
          "output_type": "execute_result",
          "data": {
            "text/plain": [
              "const    7.095947\n",
              "TV       0.047904\n",
              "dtype: float64"
            ]
          },
          "metadata": {
            "tags": []
          },
          "execution_count": 19
        }
      ]
    },
    {
      "cell_type": "markdown",
      "metadata": {
        "id": "8Q6NVWIgKBcF"
      },
      "source": [
        "Sales=  0.046450('TV) + 7.092292\n",
        "\n",
        "\n",
        "\n"
      ]
    },
    {
      "cell_type": "markdown",
      "metadata": {
        "id": "dhHDLbMh4gJ7"
      },
      "source": [
        "Regression line"
      ]
    },
    {
      "cell_type": "code",
      "metadata": {
        "id": "DZ_bfRwnI074",
        "outputId": "499257ac-aabc-40f4-d20a-2a01bf11f89e",
        "colab": {
          "base_uri": "https://localhost:8080/",
          "height": 282
        }
      },
      "source": [
        "plt.scatter(X_train,y_train)  #actual \n",
        "plt.scatter(X_train,0.048197*X_train + 7.005525,color='red')   #best fit line"
      ],
      "execution_count": 20,
      "outputs": [
        {
          "output_type": "execute_result",
          "data": {
            "text/plain": [
              "<matplotlib.collections.PathCollection at 0x7fb2c1e48668>"
            ]
          },
          "metadata": {
            "tags": []
          },
          "execution_count": 20
        },
        {
          "output_type": "display_data",
          "data": {
            "image/png": "[encoded data removed]",
            "text/plain": [
              "<Figure size 432x288 with 1 Axes>"
            ]
          },
          "metadata": {
            "tags": [],
            "needs_background": "light"
          }
        }
      ]
    },
    {
      "cell_type": "markdown",
      "metadata": {
        "id": "fub9wDMYveUC"
      },
      "source": [
        "Distribution of Error Term"
      ]
    },
    {
      "cell_type": "code",
      "metadata": {
        "id": "Ov8J316vMCab"
      },
      "source": [
        "ypred = model.predict(X_train_cons)\n",
        "residual = y_train - ypred  #residual = actual - predicted"
      ],
      "execution_count": 21,
      "outputs": []
    },
    {
      "cell_type": "code",
      "metadata": {
        "id": "KzmKxhXEwaD8",
        "outputId": "6a549713-0cb7-46c6-b8b5-2c779e69dd4f",
        "colab": {
          "base_uri": "https://localhost:8080/",
          "height": 366
        }
      },
      "source": [
        "plt.title(\"Error Term Distribution\")\n",
        "sns.distplot(residual,bins=20)\n",
        "plt.xlabel('Error')"
      ],
      "execution_count": 22,
      "outputs": [
        {
          "output_type": "stream",
          "text": [
            "/usr/local/lib/python3.6/dist-packages/seaborn/distributions.py:2551: FutureWarning: `distplot` is a deprecated function and will be removed in a future version. Please adapt your code to use either `displot` (a figure-level function with similar flexibility) or `histplot` (an axes-level function for histograms).\n",
            "  warnings.warn(msg, FutureWarning)\n"
          ],
          "name": "stderr"
        },
        {
          "output_type": "execute_result",
          "data": {
            "text/plain": [
              "Text(0.5, 0, 'Error')"
            ]
          },
          "metadata": {
            "tags": []
          },
          "execution_count": 22
        },
        {
          "output_type": "display_data",
          "data": {
            "image/png": "[encoded data removed]",
            "text/plain": [
              "<Figure size 432x288 with 1 Axes>"
            ]
          },
          "metadata": {
            "tags": [],
            "needs_background": "light"
          }
        }
      ]
    },
    {
      "cell_type": "markdown",
      "metadata": {
        "id": "uPWrWIEJyq36"
      },
      "source": [
        "In this case  error terms are normally distributed with mean 0."
      ]
    },
    {
      "cell_type": "code",
      "metadata": {
        "id": "kg24NdoEx6Gv",
        "outputId": "1a5af3a4-04ed-4efa-caf9-faf54e145e12",
        "colab": {
          "base_uri": "https://localhost:8080/",
          "height": 282
        }
      },
      "source": [
        "# Distribution of data and residuals\n",
        "plt.scatter(X_train,residual)"
      ],
      "execution_count": 23,
      "outputs": [
        {
          "output_type": "execute_result",
          "data": {
            "text/plain": [
              "<matplotlib.collections.PathCollection at 0x7fb2c1a454e0>"
            ]
          },
          "metadata": {
            "tags": []
          },
          "execution_count": 23
        },
        {
          "output_type": "display_data",
          "data": {
            "image/png": "[encoded data removed]",
            "text/plain": [
              "<Figure size 432x288 with 1 Axes>"
            ]
          },
          "metadata": {
            "tags": [],
            "needs_background": "light"
          }
        }
      ]
    },
    {
      "cell_type": "markdown",
      "metadata": {
        "id": "Ur7bpjsw43cS"
      },
      "source": [
        "Now prediction on test data"
      ]
    },
    {
      "cell_type": "code",
      "metadata": {
        "id": "3H12-jDH3PdJ"
      },
      "source": [
        "X_test_cons=sm.add_constant(X_test)\n",
        "ypred_test=model.predict(X_test_cons)"
      ],
      "execution_count": 24,
      "outputs": []
    },
    {
      "cell_type": "markdown",
      "metadata": {
        "id": "JWYjg9Sq5dv4"
      },
      "source": [
        "Check RMSE & R2 score"
      ]
    },
    {
      "cell_type": "code",
      "metadata": {
        "id": "iMP_LRbr5W3m",
        "outputId": "43d95894-4588-42ba-f0f1-d617f9da589f",
        "colab": {
          "base_uri": "https://localhost:8080/"
        }
      },
      "source": [
        "from sklearn.metrics import mean_squared_error,r2_score\n",
        "print('RMSE is ',np.sqrt(mean_squared_error(y_test,ypred_test)))"
      ],
      "execution_count": 25,
      "outputs": [
        {
          "output_type": "stream",
          "text": [
            "RMSE is  3.008661239977795\n"
          ],
          "name": "stdout"
        }
      ]
    },
    {
      "cell_type": "code",
      "metadata": {
        "id": "u7wxGXKA6MVk",
        "outputId": "d9945077-9210-4694-84a7-9f3121358ca0",
        "colab": {
          "base_uri": "https://localhost:8080/"
        }
      },
      "source": [
        "print('R2 Score is',r2_score(y_test,ypred_test))"
      ],
      "execution_count": 26,
      "outputs": [
        {
          "output_type": "stream",
          "text": [
            "R2 Score is 0.6132389846419608\n"
          ],
          "name": "stdout"
        }
      ]
    },
    {
      "cell_type": "markdown",
      "metadata": {
        "id": "9TBtPtET7lIz"
      },
      "source": [
        "Visualizing fit on test data"
      ]
    },
    {
      "cell_type": "code",
      "metadata": {
        "id": "MsXnvGKW7p0Q",
        "outputId": "efa21e35-ecbb-4753-d895-5fe43c784968",
        "colab": {
          "base_uri": "https://localhost:8080/",
          "height": 282
        }
      },
      "source": [
        "plt.scatter(X_test,y_test)\n",
        "plt.scatter(X_test,0.048197*X_test + 7.005525,color='green')"
      ],
      "execution_count": 27,
      "outputs": [
        {
          "output_type": "execute_result",
          "data": {
            "text/plain": [
              "<matplotlib.collections.PathCollection at 0x7fb2c1a0b160>"
            ]
          },
          "metadata": {
            "tags": []
          },
          "execution_count": 27
        },
        {
          "output_type": "display_data",
          "data": {
            "image/png": "[encoded data removed]",
            "text/plain": [
              "<Figure size 432x288 with 1 Axes>"
            ]
          },
          "metadata": {
            "tags": [],
            "needs_background": "light"
          }
        }
      ]
    },
    {
      "cell_type": "markdown",
      "metadata": {
        "id": "oj-HMo6qywRU"
      },
      "source": [
        "\n",
        "\n",
        "\n",
        "**Considering all the three columns **"
      ]
    },
    {
      "cell_type": "code",
      "metadata": {
        "id": "TGgSo9aay2qK"
      },
      "source": [
        "X_new=ad_data[['TV','radio','newspaper']]\n",
        "y_new=ad_data['sales']"
      ],
      "execution_count": 50,
      "outputs": []
    },
    {
      "cell_type": "code",
      "metadata": {
        "id": "ZDF44EAX1Fri"
      },
      "source": [
        "X_new_train,X_new_test,y_new_train,y_new_test = train_test_split(X_new,y_new,test_size=0.3)"
      ],
      "execution_count": 51,
      "outputs": []
    },
    {
      "cell_type": "code",
      "metadata": {
        "id": "Eg2Hap3t1a62"
      },
      "source": [
        "X_new_train_cons = sm.add_constant(X_new_train)"
      ],
      "execution_count": 52,
      "outputs": []
    },
    {
      "cell_type": "code",
      "metadata": {
        "id": "6cjTjq_t1l3C"
      },
      "source": [
        "model1=sm.OLS(y_new_train,X_new_train_cons).fit()"
      ],
      "execution_count": 53,
      "outputs": []
    },
    {
      "cell_type": "code",
      "metadata": {
        "id": "NUwHpjuN1uvc",
        "outputId": "43bbcee2-c3c6-4375-f6eb-1bdbd686ab8f",
        "colab": {
          "base_uri": "https://localhost:8080/"
        }
      },
      "source": [
        "print(model1.summary())"
      ],
      "execution_count": 54,
      "outputs": [
        {
          "output_type": "stream",
          "text": [
            "                            OLS Regression Results                            \n",
            "==============================================================================\n",
            "Dep. Variable:                  sales   R-squared:                       0.892\n",
            "Model:                            OLS   Adj. R-squared:                  0.890\n",
            "Method:                 Least Squares   F-statistic:                     375.1\n",
            "Date:                Wed, 04 Nov 2020   Prob (F-statistic):           1.49e-65\n",
            "Time:                        07:09:42   Log-Likelihood:                -271.97\n",
            "No. Observations:                 140   AIC:                             551.9\n",
            "Df Residuals:                     136   BIC:                             563.7\n",
            "Df Model:                           3                                         \n",
            "Covariance Type:            nonrobust                                         \n",
            "==============================================================================\n",
            "                 coef    std err          t      P>|t|      [0.025      0.975]\n",
            "------------------------------------------------------------------------------\n",
            "const          2.9527      0.388      7.604      0.000       2.185       3.721\n",
            "TV             0.0468      0.002     26.959      0.000       0.043       0.050\n",
            "radio          0.1841      0.011     16.902      0.000       0.163       0.206\n",
            "newspaper     -0.0023      0.007     -0.328      0.744      -0.016       0.011\n",
            "==============================================================================\n",
            "Omnibus:                       53.495   Durbin-Watson:                   2.088\n",
            "Prob(Omnibus):                  0.000   Jarque-Bera (JB):              152.051\n",
            "Skew:                          -1.496   Prob(JB):                     9.60e-34\n",
            "Kurtosis:                       7.138   Cond. No.                         462.\n",
            "==============================================================================\n",
            "\n",
            "Warnings:\n",
            "[1] Standard Errors assume that the covariance matrix of the errors is correctly specified.\n"
          ],
          "name": "stdout"
        }
      ]
    },
    {
      "cell_type": "markdown",
      "metadata": {
        "id": "JJPdqxamrUMO"
      },
      "source": [
        "Since p value for newspaper is greater than 0.05 so we should remove this column."
      ]
    },
    {
      "cell_type": "code",
      "metadata": {
        "id": "dMNsob9Zrl_C"
      },
      "source": [
        "X_new_train_cons=X_new_train_cons.drop('newspaper',axis=1)"
      ],
      "execution_count": 55,
      "outputs": []
    },
    {
      "cell_type": "code",
      "metadata": {
        "id": "KSeuGpd2rw2y",
        "outputId": "89126bf6-5ba6-4a68-b871-969ddbd8fe47",
        "colab": {
          "base_uri": "https://localhost:8080/"
        }
      },
      "source": [
        "model2=sm.OLS(y_new_train,X_new_train_cons).fit()\n",
        "print(model2.summary())"
      ],
      "execution_count": 56,
      "outputs": [
        {
          "output_type": "stream",
          "text": [
            "                            OLS Regression Results                            \n",
            "==============================================================================\n",
            "Dep. Variable:                  sales   R-squared:                       0.892\n",
            "Model:                            OLS   Adj. R-squared:                  0.891\n",
            "Method:                 Least Squares   F-statistic:                     566.3\n",
            "Date:                Wed, 04 Nov 2020   Prob (F-statistic):           5.82e-67\n",
            "Time:                        07:09:56   Log-Likelihood:                -272.02\n",
            "No. Observations:                 140   AIC:                             550.0\n",
            "Df Residuals:                     137   BIC:                             558.9\n",
            "Df Model:                           2                                         \n",
            "Covariance Type:            nonrobust                                         \n",
            "==============================================================================\n",
            "                 coef    std err          t      P>|t|      [0.025      0.975]\n",
            "------------------------------------------------------------------------------\n",
            "const          2.9087      0.363      8.011      0.000       2.191       3.627\n",
            "TV             0.0468      0.002     27.151      0.000       0.043       0.050\n",
            "radio          0.1826      0.010     18.545      0.000       0.163       0.202\n",
            "==============================================================================\n",
            "Omnibus:                       52.412   Durbin-Watson:                   2.081\n",
            "Prob(Omnibus):                  0.000   Jarque-Bera (JB):              143.781\n",
            "Skew:                          -1.480   Prob(JB):                     6.00e-32\n",
            "Kurtosis:                       6.986   Cond. No.                         428.\n",
            "==============================================================================\n",
            "\n",
            "Warnings:\n",
            "[1] Standard Errors assume that the covariance matrix of the errors is correctly specified.\n"
          ],
          "name": "stdout"
        }
      ]
    },
    {
      "cell_type": "code",
      "metadata": {
        "id": "M2ayzd601-_R",
        "outputId": "e9bd40ea-a893-4848-9716-2f35a66eee7c",
        "colab": {
          "base_uri": "https://localhost:8080/"
        }
      },
      "source": [
        "model2.params"
      ],
      "execution_count": 57,
      "outputs": [
        {
          "output_type": "execute_result",
          "data": {
            "text/plain": [
              "const    2.908651\n",
              "TV       0.046804\n",
              "radio    0.182613\n",
              "dtype: float64"
            ]
          },
          "metadata": {
            "tags": []
          },
          "execution_count": 57
        }
      ]
    },
    {
      "cell_type": "markdown",
      "metadata": {
        "id": "dqLxbqKJ2Gki"
      },
      "source": [
        "y(sales)=2.977849 + 0.044714* TV + 0.188479 * radio\n",
        "\n",
        "\n",
        "\n"
      ]
    },
    {
      "cell_type": "code",
      "metadata": {
        "id": "nou6HmxXF4E-"
      },
      "source": [
        "X_new_test=sm.add_constant(X_new_test)"
      ],
      "execution_count": 58,
      "outputs": []
    },
    {
      "cell_type": "code",
      "metadata": {
        "id": "XRvhoD0JDSdN"
      },
      "source": [
        "X_new_test=X_new_test.drop('newspaper',axis=1)"
      ],
      "execution_count": 59,
      "outputs": []
    },
    {
      "cell_type": "code",
      "metadata": {
        "id": "MsC0IV694uIk"
      },
      "source": [
        "ypred1_test=model2.predict(X_new_test)"
      ],
      "execution_count": 60,
      "outputs": []
    },
    {
      "cell_type": "code",
      "metadata": {
        "id": "_K7DQ_2AEFBS",
        "outputId": "234b7218-d168-4cb3-b50f-7e10247effbb",
        "colab": {
          "base_uri": "https://localhost:8080/"
        }
      },
      "source": [
        "print('RMSE is ',np.sqrt(mean_squared_error(y_new_test,ypred1_test)))"
      ],
      "execution_count": 62,
      "outputs": [
        {
          "output_type": "stream",
          "text": [
            "RMSE is  1.6348979411407452\n"
          ],
          "name": "stdout"
        }
      ]
    },
    {
      "cell_type": "code",
      "metadata": {
        "id": "MSXRLwg1GRR7",
        "outputId": "e2d214b1-c04d-4767-e83c-c6a9c0d035bb",
        "colab": {
          "base_uri": "https://localhost:8080/"
        }
      },
      "source": [
        "print('R2 Score is',r2_score(y_new_test,ypred1_test))"
      ],
      "execution_count": 63,
      "outputs": [
        {
          "output_type": "stream",
          "text": [
            "R2 Score is 0.9065753917234041\n"
          ],
          "name": "stdout"
        }
      ]
    }
  ]
}