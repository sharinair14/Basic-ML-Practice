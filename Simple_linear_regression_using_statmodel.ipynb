{
  "nbformat": 4,
  "nbformat_minor": 0,
  "metadata": {
    "colab": {
      "name": "Simple-linear-regression-using-statmodel.ipynb",
      "provenance": [],
      "collapsed_sections": [],
      "authorship_tag": "ABX9TyPbD4XufDBOPAhsCRG1yPcS",
      "include_colab_link": true
    },
    "kernelspec": {
      "name": "python3",
      "display_name": "Python 3"
    }
  },
  "cells": [
    {
      "cell_type": "markdown",
      "metadata": {
        "id": "view-in-github",
        "colab_type": "text"
      },
      "source": [
        "<a href=\"https://colab.research.google.com/github/sharinair14/Basic-ML-Practice/blob/master/Simple_linear_regression_using_statmodel.ipynb\" target=\"_parent\"><img src=\"https://colab.research.google.com/assets/colab-badge.svg\" alt=\"Open In Colab\"/></a>"
      ]
    },
    {
      "cell_type": "code",
      "metadata": {
        "id": "IC64-17iwopl"
      },
      "source": [
        "import numpy as np\n",
        "import pandas as pd\n",
        "import matplotlib.pyplot as plt\n",
        "import seaborn as sns\n",
        "%matplotlib inline\n"
      ],
      "execution_count": 1,
      "outputs": []
    },
    {
      "cell_type": "code",
      "metadata": {
        "id": "WNK_km0Kw3Yv"
      },
      "source": [
        "ad_data = pd.read_csv('/content/Advertising.csv',index_col=0)\n",
        "\n"
      ],
      "execution_count": 2,
      "outputs": []
    },
    {
      "cell_type": "code",
      "metadata": {
        "id": "0peRjBynw59z",
        "outputId": "26ad9e5c-72e8-48cc-c41e-a676416be65e",
        "colab": {
          "base_uri": "https://localhost:8080/",
          "height": 235
        }
      },
      "source": [
        "ad_data.head()"
      ],
      "execution_count": 3,
      "outputs": [
        {
          "output_type": "execute_result",
          "data": {
            "text/html": [
              "<div>\n",
              "<style scoped>\n",
              "    .dataframe tbody tr th:only-of-type {\n",
              "        vertical-align: middle;\n",
              "    }\n",
              "\n",
              "    .dataframe tbody tr th {\n",
              "        vertical-align: top;\n",
              "    }\n",
              "\n",
              "    .dataframe thead th {\n",
              "        text-align: right;\n",
              "    }\n",
              "</style>\n",
              "<table border=\"1\" class=\"dataframe\">\n",
              "  <thead>\n",
              "    <tr style=\"text-align: right;\">\n",
              "      <th></th>\n",
              "      <th>TV</th>\n",
              "      <th>radio</th>\n",
              "      <th>newspaper</th>\n",
              "      <th>sales</th>\n",
              "    </tr>\n",
              "    <tr>\n",
              "      <th>Index</th>\n",
              "      <th></th>\n",
              "      <th></th>\n",
              "      <th></th>\n",
              "      <th></th>\n",
              "    </tr>\n",
              "  </thead>\n",
              "  <tbody>\n",
              "    <tr>\n",
              "      <th>1</th>\n",
              "      <td>230.1</td>\n",
              "      <td>37.8</td>\n",
              "      <td>69.2</td>\n",
              "      <td>22.1</td>\n",
              "    </tr>\n",
              "    <tr>\n",
              "      <th>2</th>\n",
              "      <td>44.5</td>\n",
              "      <td>39.3</td>\n",
              "      <td>45.1</td>\n",
              "      <td>10.4</td>\n",
              "    </tr>\n",
              "    <tr>\n",
              "      <th>3</th>\n",
              "      <td>17.2</td>\n",
              "      <td>45.9</td>\n",
              "      <td>69.3</td>\n",
              "      <td>9.3</td>\n",
              "    </tr>\n",
              "    <tr>\n",
              "      <th>4</th>\n",
              "      <td>151.5</td>\n",
              "      <td>41.3</td>\n",
              "      <td>58.5</td>\n",
              "      <td>18.5</td>\n",
              "    </tr>\n",
              "    <tr>\n",
              "      <th>5</th>\n",
              "      <td>180.8</td>\n",
              "      <td>10.8</td>\n",
              "      <td>58.4</td>\n",
              "      <td>12.9</td>\n",
              "    </tr>\n",
              "  </tbody>\n",
              "</table>\n",
              "</div>"
            ],
            "text/plain": [
              "          TV  radio  newspaper  sales\n",
              "Index                                \n",
              "1      230.1   37.8       69.2   22.1\n",
              "2       44.5   39.3       45.1   10.4\n",
              "3       17.2   45.9       69.3    9.3\n",
              "4      151.5   41.3       58.5   18.5\n",
              "5      180.8   10.8       58.4   12.9"
            ]
          },
          "metadata": {
            "tags": []
          },
          "execution_count": 3
        }
      ]
    },
    {
      "cell_type": "code",
      "metadata": {
        "id": "THAdeAZCw61l",
        "outputId": "a5325405-89ef-4f67-d9b1-0f195cf664bd",
        "colab": {
          "base_uri": "https://localhost:8080/"
        }
      },
      "source": [
        "ad_data.shape"
      ],
      "execution_count": 4,
      "outputs": [
        {
          "output_type": "execute_result",
          "data": {
            "text/plain": [
              "(200, 4)"
            ]
          },
          "metadata": {
            "tags": []
          },
          "execution_count": 4
        }
      ]
    },
    {
      "cell_type": "code",
      "metadata": {
        "id": "_oaY8Qe_w9QD",
        "outputId": "74510715-11f5-4def-ba11-34f28b0c9bde",
        "colab": {
          "base_uri": "https://localhost:8080/"
        }
      },
      "source": [
        "ad_data.info()"
      ],
      "execution_count": 5,
      "outputs": [
        {
          "output_type": "stream",
          "text": [
            "<class 'pandas.core.frame.DataFrame'>\n",
            "Int64Index: 200 entries, 1 to 200\n",
            "Data columns (total 4 columns):\n",
            " #   Column     Non-Null Count  Dtype  \n",
            "---  ------     --------------  -----  \n",
            " 0   TV         200 non-null    float64\n",
            " 1   radio      200 non-null    float64\n",
            " 2   newspaper  200 non-null    float64\n",
            " 3   sales      200 non-null    float64\n",
            "dtypes: float64(4)\n",
            "memory usage: 7.8 KB\n"
          ],
          "name": "stdout"
        }
      ]
    },
    {
      "cell_type": "code",
      "metadata": {
        "id": "cu4xlyUFxANq",
        "outputId": "18b1d5e8-d33b-4abd-bd34-7a2c13081ede",
        "colab": {
          "base_uri": "https://localhost:8080/"
        }
      },
      "source": [
        "ad_data.isna().sum()"
      ],
      "execution_count": 6,
      "outputs": [
        {
          "output_type": "execute_result",
          "data": {
            "text/plain": [
              "TV           0\n",
              "radio        0\n",
              "newspaper    0\n",
              "sales        0\n",
              "dtype: int64"
            ]
          },
          "metadata": {
            "tags": []
          },
          "execution_count": 6
        }
      ]
    },
    {
      "cell_type": "code",
      "metadata": {
        "id": "zB9AevgpEBfC",
        "outputId": "65b9ec46-64f5-48bf-f794-f934fa76cc4c",
        "colab": {
          "base_uri": "https://localhost:8080/",
          "height": 297
        }
      },
      "source": [
        "ad_data.describe()"
      ],
      "execution_count": 7,
      "outputs": [
        {
          "output_type": "execute_result",
          "data": {
            "text/html": [
              "<div>\n",
              "<style scoped>\n",
              "    .dataframe tbody tr th:only-of-type {\n",
              "        vertical-align: middle;\n",
              "    }\n",
              "\n",
              "    .dataframe tbody tr th {\n",
              "        vertical-align: top;\n",
              "    }\n",
              "\n",
              "    .dataframe thead th {\n",
              "        text-align: right;\n",
              "    }\n",
              "</style>\n",
              "<table border=\"1\" class=\"dataframe\">\n",
              "  <thead>\n",
              "    <tr style=\"text-align: right;\">\n",
              "      <th></th>\n",
              "      <th>TV</th>\n",
              "      <th>radio</th>\n",
              "      <th>newspaper</th>\n",
              "      <th>sales</th>\n",
              "    </tr>\n",
              "  </thead>\n",
              "  <tbody>\n",
              "    <tr>\n",
              "      <th>count</th>\n",
              "      <td>200.000000</td>\n",
              "      <td>200.000000</td>\n",
              "      <td>200.000000</td>\n",
              "      <td>200.000000</td>\n",
              "    </tr>\n",
              "    <tr>\n",
              "      <th>mean</th>\n",
              "      <td>147.042500</td>\n",
              "      <td>23.264000</td>\n",
              "      <td>30.554000</td>\n",
              "      <td>14.022500</td>\n",
              "    </tr>\n",
              "    <tr>\n",
              "      <th>std</th>\n",
              "      <td>85.854236</td>\n",
              "      <td>14.846809</td>\n",
              "      <td>21.778621</td>\n",
              "      <td>5.217457</td>\n",
              "    </tr>\n",
              "    <tr>\n",
              "      <th>min</th>\n",
              "      <td>0.700000</td>\n",
              "      <td>0.000000</td>\n",
              "      <td>0.300000</td>\n",
              "      <td>1.600000</td>\n",
              "    </tr>\n",
              "    <tr>\n",
              "      <th>25%</th>\n",
              "      <td>74.375000</td>\n",
              "      <td>9.975000</td>\n",
              "      <td>12.750000</td>\n",
              "      <td>10.375000</td>\n",
              "    </tr>\n",
              "    <tr>\n",
              "      <th>50%</th>\n",
              "      <td>149.750000</td>\n",
              "      <td>22.900000</td>\n",
              "      <td>25.750000</td>\n",
              "      <td>12.900000</td>\n",
              "    </tr>\n",
              "    <tr>\n",
              "      <th>75%</th>\n",
              "      <td>218.825000</td>\n",
              "      <td>36.525000</td>\n",
              "      <td>45.100000</td>\n",
              "      <td>17.400000</td>\n",
              "    </tr>\n",
              "    <tr>\n",
              "      <th>max</th>\n",
              "      <td>296.400000</td>\n",
              "      <td>49.600000</td>\n",
              "      <td>114.000000</td>\n",
              "      <td>27.000000</td>\n",
              "    </tr>\n",
              "  </tbody>\n",
              "</table>\n",
              "</div>"
            ],
            "text/plain": [
              "               TV       radio   newspaper       sales\n",
              "count  200.000000  200.000000  200.000000  200.000000\n",
              "mean   147.042500   23.264000   30.554000   14.022500\n",
              "std     85.854236   14.846809   21.778621    5.217457\n",
              "min      0.700000    0.000000    0.300000    1.600000\n",
              "25%     74.375000    9.975000   12.750000   10.375000\n",
              "50%    149.750000   22.900000   25.750000   12.900000\n",
              "75%    218.825000   36.525000   45.100000   17.400000\n",
              "max    296.400000   49.600000  114.000000   27.000000"
            ]
          },
          "metadata": {
            "tags": []
          },
          "execution_count": 7
        }
      ]
    },
    {
      "cell_type": "code",
      "metadata": {
        "id": "orjoLUZ8xCiE",
        "outputId": "7bc7d4b9-8409-4b7f-d052-b1b5192b6851",
        "colab": {
          "base_uri": "https://localhost:8080/",
          "height": 286
        }
      },
      "source": [
        "sns.heatmap(ad_data.corr(),annot=True,cmap=\"Greens\")"
      ],
      "execution_count": 8,
      "outputs": [
        {
          "output_type": "execute_result",
          "data": {
            "text/plain": [
              "<matplotlib.axes._subplots.AxesSubplot at 0x7f1f1f1c5908>"
            ]
          },
          "metadata": {
            "tags": []
          },
          "execution_count": 8
        },
        {
          "output_type": "display_data",
          "data": {
            "image/png": "[encoded data removed]",
            "text/plain": [
              "<Figure size 432x288 with 2 Axes>"
            ]
          },
          "metadata": {
            "tags": [],
            "needs_background": "light"
          }
        }
      ]
    },
    {
      "cell_type": "markdown",
      "metadata": {
        "id": "l_jVsrqfxh_H"
      },
      "source": [
        "Sales is correlated to TV.So taking TV as independent feature and sales as dependent."
      ]
    },
    {
      "cell_type": "code",
      "metadata": {
        "id": "iWcxJPG4xNdo"
      },
      "source": [
        "X=ad_data['TV']\n",
        "y=ad_data['sales']"
      ],
      "execution_count": 60,
      "outputs": []
    },
    {
      "cell_type": "code",
      "metadata": {
        "id": "0X96Q_7jFw0B"
      },
      "source": [
        "from sklearn.model_selection import train_test_split\n",
        "X_train,X_test,y_train,y_test = train_test_split(X,y,test_size=0.2)"
      ],
      "execution_count": 61,
      "outputs": []
    },
    {
      "cell_type": "code",
      "metadata": {
        "id": "89KspQlWyVZS"
      },
      "source": [
        "import statsmodels.api as sm"
      ],
      "execution_count": 33,
      "outputs": []
    },
    {
      "cell_type": "markdown",
      "metadata": {
        "id": "b030GYCSFYyU"
      },
      "source": [
        "y('sales')=coefficient * x('TV') + intercept"
      ]
    },
    {
      "cell_type": "code",
      "metadata": {
        "id": "Dr-NhZpxEUBO"
      },
      "source": [
        "X_train_cons = sm.add_constant(X_train)"
      ],
      "execution_count": 62,
      "outputs": []
    },
    {
      "cell_type": "code",
      "metadata": {
        "id": "FEVNeMn8yIXY"
      },
      "source": [
        "model = sm.OLS(y_train,X_train_cons).fit()"
      ],
      "execution_count": 63,
      "outputs": []
    },
    {
      "cell_type": "code",
      "metadata": {
        "id": "zUoyWUyuJJ9j"
      },
      "source": [
        ""
      ],
      "execution_count": 13,
      "outputs": []
    },
    {
      "cell_type": "code",
      "metadata": {
        "id": "kOdYPp7bH2oa",
        "outputId": "0c71dbe3-d99e-413f-a789-4e416606212f",
        "colab": {
          "base_uri": "https://localhost:8080/"
        }
      },
      "source": [
        "print(model.summary2())"
      ],
      "execution_count": 64,
      "outputs": [
        {
          "output_type": "stream",
          "text": [
            "                 Results: Ordinary least squares\n",
            "=================================================================\n",
            "Model:              OLS              Adj. R-squared:     0.626   \n",
            "Dependent Variable: sales            AIC:                831.1400\n",
            "Date:               2020-11-02 17:11 BIC:                837.2904\n",
            "No. Observations:   160              Log-Likelihood:     -413.57 \n",
            "Df Model:           1                F-statistic:        267.1   \n",
            "Df Residuals:       158              Prob (F-statistic): 8.80e-36\n",
            "R-squared:          0.628            Scale:              10.426  \n",
            "--------------------------------------------------------------------\n",
            "         Coef.     Std.Err.       t       P>|t|     [0.025    0.975]\n",
            "--------------------------------------------------------------------\n",
            "const    6.8142      0.4994    13.6435    0.0000    5.8278    7.8007\n",
            "TV       0.0488      0.0030    16.3431    0.0000    0.0429    0.0547\n",
            "-----------------------------------------------------------------\n",
            "Omnibus:               0.086        Durbin-Watson:          1.909\n",
            "Prob(Omnibus):         0.958        Jarque-Bera (JB):       0.229\n",
            "Skew:                  -0.023       Prob(JB):               0.892\n",
            "Kurtosis:              2.820        Condition No.:          327  \n",
            "=================================================================\n",
            "\n"
          ],
          "name": "stdout"
        }
      ]
    },
    {
      "cell_type": "code",
      "metadata": {
        "id": "Cw46uo7xIVLo",
        "outputId": "5872bba8-8d8b-4ca0-da02-ef87bd60f52e",
        "colab": {
          "base_uri": "https://localhost:8080/"
        }
      },
      "source": [
        "model.params"
      ],
      "execution_count": 65,
      "outputs": [
        {
          "output_type": "execute_result",
          "data": {
            "text/plain": [
              "const    6.814202\n",
              "TV       0.048797\n",
              "dtype: float64"
            ]
          },
          "metadata": {
            "tags": []
          },
          "execution_count": 65
        }
      ]
    },
    {
      "cell_type": "markdown",
      "metadata": {
        "id": "8Q6NVWIgKBcF"
      },
      "source": [
        "Sales=  0.046450('TV) + 7.092292\n",
        "\n",
        "\n",
        "\n"
      ]
    },
    {
      "cell_type": "markdown",
      "metadata": {
        "id": "dhHDLbMh4gJ7"
      },
      "source": [
        "Regression line"
      ]
    },
    {
      "cell_type": "code",
      "metadata": {
        "id": "DZ_bfRwnI074",
        "outputId": "bf8eafcf-74a3-42ef-b08f-665e5f11a81c",
        "colab": {
          "base_uri": "https://localhost:8080/",
          "height": 282
        }
      },
      "source": [
        "plt.scatter(X_train,y_train)  #actual \n",
        "plt.scatter(X_train,0.046450*X_train + 7.092292,color='red')   #best fit line"
      ],
      "execution_count": 66,
      "outputs": [
        {
          "output_type": "execute_result",
          "data": {
            "text/plain": [
              "<matplotlib.collections.PathCollection at 0x7f1f05556cf8>"
            ]
          },
          "metadata": {
            "tags": []
          },
          "execution_count": 66
        },
        {
          "output_type": "display_data",
          "data": {
            "image/png": "[encoded data removed]",
            "text/plain": [
              "<Figure size 432x288 with 1 Axes>"
            ]
          },
          "metadata": {
            "tags": [],
            "needs_background": "light"
          }
        }
      ]
    },
    {
      "cell_type": "markdown",
      "metadata": {
        "id": "fub9wDMYveUC"
      },
      "source": [
        "Distribution of Error Term"
      ]
    },
    {
      "cell_type": "code",
      "metadata": {
        "id": "Ov8J316vMCab"
      },
      "source": [
        "ypred = model.predict(X_train_cons)\n",
        "residual = y_train - ypred  #residual = actual - predicted"
      ],
      "execution_count": 67,
      "outputs": []
    },
    {
      "cell_type": "code",
      "metadata": {
        "id": "KzmKxhXEwaD8",
        "outputId": "9b1ea896-19d5-4f70-ae88-1aa9dce82c1a",
        "colab": {
          "base_uri": "https://localhost:8080/",
          "height": 366
        }
      },
      "source": [
        "plt.title(\"Error Term Distribution\")\n",
        "sns.distplot(residual,bins=20)\n",
        "plt.xlabel('Error')"
      ],
      "execution_count": 68,
      "outputs": [
        {
          "output_type": "stream",
          "text": [
            "/usr/local/lib/python3.6/dist-packages/seaborn/distributions.py:2551: FutureWarning: `distplot` is a deprecated function and will be removed in a future version. Please adapt your code to use either `displot` (a figure-level function with similar flexibility) or `histplot` (an axes-level function for histograms).\n",
            "  warnings.warn(msg, FutureWarning)\n"
          ],
          "name": "stderr"
        },
        {
          "output_type": "execute_result",
          "data": {
            "text/plain": [
              "Text(0.5, 0, 'Error')"
            ]
          },
          "metadata": {
            "tags": []
          },
          "execution_count": 68
        },
        {
          "output_type": "display_data",
          "data": {
            "image/png": "[encoded data removed]",
            "text/plain": [
              "<Figure size 432x288 with 1 Axes>"
            ]
          },
          "metadata": {
            "tags": [],
            "needs_background": "light"
          }
        }
      ]
    },
    {
      "cell_type": "markdown",
      "metadata": {
        "id": "uPWrWIEJyq36"
      },
      "source": [
        "In this case  error terms are normally distributed with mean 0."
      ]
    },
    {
      "cell_type": "code",
      "metadata": {
        "id": "kg24NdoEx6Gv",
        "outputId": "d06466e7-abdf-484c-df25-b0199302889f",
        "colab": {
          "base_uri": "https://localhost:8080/",
          "height": 282
        }
      },
      "source": [
        "# Distribution of data and residuals\n",
        "plt.scatter(X_train,residual)"
      ],
      "execution_count": 69,
      "outputs": [
        {
          "output_type": "execute_result",
          "data": {
            "text/plain": [
              "<matplotlib.collections.PathCollection at 0x7f1f05b88860>"
            ]
          },
          "metadata": {
            "tags": []
          },
          "execution_count": 69
        },
        {
          "output_type": "display_data",
          "data": {
            "image/png": "[encoded data removed]",
            "text/plain": [
              "<Figure size 432x288 with 1 Axes>"
            ]
          },
          "metadata": {
            "tags": [],
            "needs_background": "light"
          }
        }
      ]
    },
    {
      "cell_type": "markdown",
      "metadata": {
        "id": "Ur7bpjsw43cS"
      },
      "source": [
        "Now prediction on test data"
      ]
    },
    {
      "cell_type": "code",
      "metadata": {
        "id": "3H12-jDH3PdJ"
      },
      "source": [
        "X_test_cons=sm.add_constant(X_test)\n",
        "ypred_test=model.predict(X_test_cons)"
      ],
      "execution_count": 70,
      "outputs": []
    },
    {
      "cell_type": "markdown",
      "metadata": {
        "id": "JWYjg9Sq5dv4"
      },
      "source": [
        "Check RMSE & R2 score"
      ]
    },
    {
      "cell_type": "code",
      "metadata": {
        "id": "iMP_LRbr5W3m",
        "outputId": "9b2b040e-8732-4c9d-fb41-aedff56e9759",
        "colab": {
          "base_uri": "https://localhost:8080/"
        }
      },
      "source": [
        "from sklearn.metrics import mean_squared_error,r2_score\n",
        "print('RMSE is ',np.sqrt(mean_squared_error(y_test,ypred_test)))"
      ],
      "execution_count": 71,
      "outputs": [
        {
          "output_type": "stream",
          "text": [
            "RMSE is  3.3827938808878852\n"
          ],
          "name": "stdout"
        }
      ]
    },
    {
      "cell_type": "code",
      "metadata": {
        "id": "u7wxGXKA6MVk",
        "outputId": "14887a79-4c53-4c13-aba5-4f47ec001b5a",
        "colab": {
          "base_uri": "https://localhost:8080/"
        }
      },
      "source": [
        "print('R2 Score is',r2_score(y_test,ypred_test))"
      ],
      "execution_count": 72,
      "outputs": [
        {
          "output_type": "stream",
          "text": [
            "R2 Score is 0.5208641457103064\n"
          ],
          "name": "stdout"
        }
      ]
    },
    {
      "cell_type": "markdown",
      "metadata": {
        "id": "9TBtPtET7lIz"
      },
      "source": [
        "Visualizing fit on test data"
      ]
    },
    {
      "cell_type": "code",
      "metadata": {
        "id": "MsXnvGKW7p0Q",
        "outputId": "1f6dcd65-1b00-4af9-83ab-11a72c05e67c",
        "colab": {
          "base_uri": "https://localhost:8080/",
          "height": 282
        }
      },
      "source": [
        "plt.scatter(X_test,y_test)\n",
        "plt.scatter(X_test,0.046450*X_test + 7.092292,color='green')"
      ],
      "execution_count": 73,
      "outputs": [
        {
          "output_type": "execute_result",
          "data": {
            "text/plain": [
              "<matplotlib.collections.PathCollection at 0x7f1f054c0358>"
            ]
          },
          "metadata": {
            "tags": []
          },
          "execution_count": 73
        },
        {
          "output_type": "display_data",
          "data": {
            "image/png": "[encoded data removed]",
            "text/plain": [
              "<Figure size 432x288 with 1 Axes>"
            ]
          },
          "metadata": {
            "tags": [],
            "needs_background": "light"
          }
        }
      ]
    }
  ]
}